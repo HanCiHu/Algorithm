{
 "cells": [
  {
   "cell_type": "code",
   "execution_count": 6,
   "id": "ae73dca6",
   "metadata": {},
   "outputs": [
    {
     "name": "stdout",
     "output_type": "stream",
     "text": [
      "2 4\n"
     ]
    }
   ],
   "source": [
    "n, m = map(int, input().split(' '))"
   ]
  },
  {
   "cell_type": "code",
   "execution_count": 7,
   "id": "cb57925c",
   "metadata": {},
   "outputs": [
    {
     "name": "stdout",
     "output_type": "stream",
     "text": [
      "7 3 1 8\n",
      "3 3 3 4\n"
     ]
    }
   ],
   "source": [
    "numArr = [list(map(int, input().split(' '))) for _ in range(n)]"
   ]
  },
  {
   "cell_type": "code",
   "execution_count": 9,
   "id": "5b245120",
   "metadata": {},
   "outputs": [
    {
     "name": "stdout",
     "output_type": "stream",
     "text": [
      "3\n"
     ]
    }
   ],
   "source": [
    "print(max([min(i) for i in numArr]))"
   ]
  },
  {
   "cell_type": "code",
   "execution_count": null,
   "id": "62f97d56",
   "metadata": {},
   "outputs": [],
   "source": []
  }
 ],
 "metadata": {
  "kernelspec": {
   "display_name": "Python 3 (ipykernel)",
   "language": "python",
   "name": "python3"
  },
  "language_info": {
   "codemirror_mode": {
    "name": "ipython",
    "version": 3
   },
   "file_extension": ".py",
   "mimetype": "text/x-python",
   "name": "python",
   "nbconvert_exporter": "python",
   "pygments_lexer": "ipython3",
   "version": "3.9.6"
  }
 },
 "nbformat": 4,
 "nbformat_minor": 5
}
